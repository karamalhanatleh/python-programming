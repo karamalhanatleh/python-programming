{
 "cells": [
  {
   "cell_type": "markdown",
   "id": "290c1d4f",
   "metadata": {},
   "source": [
    "# groupby function from Python's itertools"
   ]
  },
  {
   "cell_type": "markdown",
   "id": "6967076b",
   "metadata": {},
   "source": [
    "groupby is a function within the itertools module that groups consecutive elements in an iterable based on a specified key function. It returns consecutive keys and groups from the iterable.\n",
    "\n"
   ]
  },
  {
   "cell_type": "markdown",
   "id": "65c629d4",
   "metadata": {},
   "source": [
    "Consecutive Elements: groupby only groups consecutive elements that have the same key. If you want to group all similar elements regardless of their position, you should sort the iterable first.\n"
   ]
  },
  {
   "cell_type": "code",
   "execution_count": null,
   "id": "3cfbed6b",
   "metadata": {},
   "outputs": [],
   "source": []
  },
  {
   "cell_type": "code",
   "execution_count": 1,
   "id": "21cc9661",
   "metadata": {},
   "outputs": [],
   "source": [
    "# IMPORT PASKAGES\n",
    "from itertools import groupby"
   ]
  },
  {
   "cell_type": "code",
   "execution_count": null,
   "id": "4b1c0cb2",
   "metadata": {},
   "outputs": [],
   "source": []
  },
  {
   "cell_type": "markdown",
   "id": "0206badf",
   "metadata": {},
   "source": [
    "### example simple"
   ]
  },
  {
   "cell_type": "code",
   "execution_count": 2,
   "id": "890df116",
   "metadata": {},
   "outputs": [],
   "source": [
    "data='AABBCCDAA'"
   ]
  },
  {
   "cell_type": "code",
   "execution_count": 5,
   "id": "674e56e0",
   "metadata": {},
   "outputs": [
    {
     "name": "stdout",
     "output_type": "stream",
     "text": [
      "A ['A', 'A']\n",
      "B ['B', 'B']\n",
      "C ['C', 'C']\n",
      "D ['D']\n",
      "A ['A', 'A']\n"
     ]
    }
   ],
   "source": [
    "for k,g in groupby(data):\n",
    "    print(k,list(g))"
   ]
  },
  {
   "cell_type": "code",
   "execution_count": null,
   "id": "4df43a58",
   "metadata": {},
   "outputs": [],
   "source": []
  },
  {
   "cell_type": "markdown",
   "id": "de7e381e",
   "metadata": {},
   "source": [
    "### Counting Consecutive Elements:"
   ]
  },
  {
   "cell_type": "markdown",
   "id": "e864c671",
   "metadata": {},
   "source": [
    "Suppose you have a string of digits and want to count how many times each digit appears consecutively.\n",
    "\n"
   ]
  },
  {
   "cell_type": "code",
   "execution_count": 6,
   "id": "7d5fb649",
   "metadata": {},
   "outputs": [],
   "source": [
    "s='1222311'"
   ]
  },
  {
   "cell_type": "code",
   "execution_count": 10,
   "id": "c2c2c026",
   "metadata": {},
   "outputs": [
    {
     "name": "stdout",
     "output_type": "stream",
     "text": [
      "(1, 1) (3, 2) (1, 3) (2, 1)\n"
     ]
    }
   ],
   "source": [
    "result=[]\n",
    "for k , g in groupby(s):\n",
    "    count=len(list(g))\n",
    "    digit=int(k)\n",
    "    \n",
    "    result.append(f\"({count}, {digit})\")\n",
    "    \n",
    "print(\" \".join(result))"
   ]
  },
  {
   "cell_type": "code",
   "execution_count": null,
   "id": "980ce227",
   "metadata": {},
   "outputs": [],
   "source": []
  },
  {
   "cell_type": "code",
   "execution_count": null,
   "id": "45c4f7ff",
   "metadata": {},
   "outputs": [],
   "source": []
  },
  {
   "cell_type": "code",
   "execution_count": null,
   "id": "5918c935",
   "metadata": {},
   "outputs": [],
   "source": []
  },
  {
   "cell_type": "code",
   "execution_count": null,
   "id": "2b81aa34",
   "metadata": {},
   "outputs": [],
   "source": []
  },
  {
   "cell_type": "code",
   "execution_count": null,
   "id": "6703c7a7",
   "metadata": {},
   "outputs": [],
   "source": []
  },
  {
   "cell_type": "code",
   "execution_count": null,
   "id": "1d3b2666",
   "metadata": {},
   "outputs": [],
   "source": []
  },
  {
   "cell_type": "code",
   "execution_count": null,
   "id": "76236f89",
   "metadata": {},
   "outputs": [],
   "source": []
  },
  {
   "cell_type": "code",
   "execution_count": null,
   "id": "658ffb0c",
   "metadata": {},
   "outputs": [],
   "source": []
  }
 ],
 "metadata": {
  "kernelspec": {
   "display_name": "Python 3 (ipykernel)",
   "language": "python",
   "name": "python3"
  },
  "language_info": {
   "codemirror_mode": {
    "name": "ipython",
    "version": 3
   },
   "file_extension": ".py",
   "mimetype": "text/x-python",
   "name": "python",
   "nbconvert_exporter": "python",
   "pygments_lexer": "ipython3",
   "version": "3.9.13"
  }
 },
 "nbformat": 4,
 "nbformat_minor": 5
}
