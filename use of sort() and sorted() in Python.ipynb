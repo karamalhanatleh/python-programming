{
 "cells": [
  {
   "cell_type": "markdown",
   "id": "34d75045",
   "metadata": {},
   "source": [
    "# use of sort() and sorted() in Python"
   ]
  },
  {
   "cell_type": "markdown",
   "id": "f8d1eac6",
   "metadata": {},
   "source": [
    "### Sort()"
   ]
  },
  {
   "cell_type": "markdown",
   "id": "449ccfa4",
   "metadata": {},
   "source": [
    "Description: The sort() method sorts a list in-place.<br>\n",
    "Effect on Original List: It modifies the original list and does not return a new list.<br>\n",
    "Usage: Typically used when you want to sort the original list directly."
   ]
  },
  {
   "cell_type": "code",
   "execution_count": 1,
   "id": "ddb16769",
   "metadata": {},
   "outputs": [],
   "source": [
    "#list\n",
    "my_list = [3, 1, 4, 1, 5, 9]\n"
   ]
  },
  {
   "cell_type": "code",
   "execution_count": 2,
   "id": "e30f3234",
   "metadata": {},
   "outputs": [
    {
     "name": "stdout",
     "output_type": "stream",
     "text": [
      "original list \n",
      " [3, 1, 4, 1, 5, 9]\n"
     ]
    }
   ],
   "source": [
    "# Using sort() to sort the list in-place\n",
    "print(\"original list \\n\",my_list)"
   ]
  },
  {
   "cell_type": "code",
   "execution_count": 3,
   "id": "54b567a9",
   "metadata": {},
   "outputs": [
    {
     "name": "stdout",
     "output_type": "stream",
     "text": [
      "List after sort() in ascending order\n",
      " [1, 1, 3, 4, 5, 9]\n"
     ]
    }
   ],
   "source": [
    "# Sort  list in ascending order use sort()\n",
    "my_list.sort()\n",
    "print(\"List after sort() in ascending order\\n\", my_list)"
   ]
  },
  {
   "cell_type": "code",
   "execution_count": 5,
   "id": "def7ba0c",
   "metadata": {},
   "outputs": [
    {
     "name": "stdout",
     "output_type": "stream",
     "text": [
      "List after sort() in descending order:\n",
      " [9, 5, 4, 3, 1, 1]\n"
     ]
    }
   ],
   "source": [
    "# Sort  list in descending order using sort()\n",
    "my_list.sort(reverse=True)\n",
    "print(\"List after sort() in descending order:\\n\", my_list)\n"
   ]
  },
  {
   "cell_type": "code",
   "execution_count": null,
   "id": "76b240f9",
   "metadata": {},
   "outputs": [],
   "source": []
  },
  {
   "cell_type": "markdown",
   "id": "8f4e60d4",
   "metadata": {},
   "source": [
    "### sorted()\n"
   ]
  },
  {
   "cell_type": "markdown",
   "id": "804619b2",
   "metadata": {},
   "source": [
    "Description: The sorted() function returns a new list containing all items from the original iterable in ascending order.<br>\n",
    "Effect on Original List: It does not modify the original list.<br>\n",
    "Usage: Useful when you need a sorted version of the list but want to keep the original list unchanged."
   ]
  },
  {
   "cell_type": "code",
   "execution_count": 7,
   "id": "58bb12c4",
   "metadata": {},
   "outputs": [],
   "source": [
    "#list\n",
    "my_list = [3, 1, 4, 1, 5, 9]\n"
   ]
  },
  {
   "cell_type": "code",
   "execution_count": 10,
   "id": "f41cb01e",
   "metadata": {},
   "outputs": [],
   "source": [
    "# sorted() returns a new list \n",
    "sorted_list=sorted(my_list)"
   ]
  },
  {
   "cell_type": "code",
   "execution_count": 11,
   "id": "61ad317b",
   "metadata": {},
   "outputs": [
    {
     "name": "stdout",
     "output_type": "stream",
     "text": [
      "New sorted list (ascending order) using sorted(): [1, 1, 3, 4, 5, 9]\n"
     ]
    }
   ],
   "source": [
    "print(\"New sorted list (ascending order) using sorted():\", sorted_list)"
   ]
  },
  {
   "cell_type": "code",
   "execution_count": 12,
   "id": "2076c0fe",
   "metadata": {},
   "outputs": [
    {
     "name": "stdout",
     "output_type": "stream",
     "text": [
      "Original list after sorted(): [3, 1, 4, 1, 5, 9]\n"
     ]
    }
   ],
   "source": [
    "print(\"Original list after sorted():\", my_list)  \n"
   ]
  },
  {
   "cell_type": "code",
   "execution_count": 13,
   "id": "a9090757",
   "metadata": {},
   "outputs": [],
   "source": [
    "# Using sorted() to get a new sorted list in descending order\n",
    "sorted_list_desc = sorted(my_list, reverse=True)\n"
   ]
  },
  {
   "cell_type": "code",
   "execution_count": 14,
   "id": "2a1e5df0",
   "metadata": {},
   "outputs": [
    {
     "name": "stdout",
     "output_type": "stream",
     "text": [
      "New sorted list (descending order) using sorted(): [9, 5, 4, 3, 1, 1]\n"
     ]
    }
   ],
   "source": [
    "print(\"New sorted list (descending order) using sorted():\", sorted_list_desc)\n"
   ]
  },
  {
   "cell_type": "code",
   "execution_count": 15,
   "id": "fc5d0ef6",
   "metadata": {},
   "outputs": [
    {
     "name": "stdout",
     "output_type": "stream",
     "text": [
      "Original list after sorted(): [3, 1, 4, 1, 5, 9]\n"
     ]
    }
   ],
   "source": [
    "print(\"Original list after sorted():\", my_list)  \n"
   ]
  },
  {
   "cell_type": "code",
   "execution_count": null,
   "id": "3b2e7104",
   "metadata": {},
   "outputs": [],
   "source": []
  }
 ],
 "metadata": {
  "kernelspec": {
   "display_name": "Python 3 (ipykernel)",
   "language": "python",
   "name": "python3"
  },
  "language_info": {
   "codemirror_mode": {
    "name": "ipython",
    "version": 3
   },
   "file_extension": ".py",
   "mimetype": "text/x-python",
   "name": "python",
   "nbconvert_exporter": "python",
   "pygments_lexer": "ipython3",
   "version": "3.9.13"
  }
 },
 "nbformat": 4,
 "nbformat_minor": 5
}
