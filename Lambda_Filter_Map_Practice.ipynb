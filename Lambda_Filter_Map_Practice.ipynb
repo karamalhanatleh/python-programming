{
 "cells": [
  {
   "cell_type": "markdown",
   "id": "7042d1e1",
   "metadata": {},
   "source": [
    "# Lambda Examples:"
   ]
  },
  {
   "cell_type": "markdown",
   "id": "f1a084d9",
   "metadata": {},
   "source": [
    "###### Example 1: Adding two numbers\n"
   ]
  },
  {
   "cell_type": "code",
   "execution_count": 1,
   "id": "16b38702",
   "metadata": {},
   "outputs": [
    {
     "name": "stdout",
     "output_type": "stream",
     "text": [
      "sum :  8\n"
     ]
    }
   ],
   "source": [
    "add =lambda x,y:x+y\n",
    "result=add(5,3)\n",
    "print(\"sum : \",result)"
   ]
  },
  {
   "cell_type": "code",
   "execution_count": null,
   "id": "726da36c",
   "metadata": {},
   "outputs": [],
   "source": []
  },
  {
   "cell_type": "markdown",
   "id": "cd32f6dc",
   "metadata": {},
   "source": [
    "###### Example 2: Checking if a number is even or odd\n"
   ]
  },
  {
   "cell_type": "code",
   "execution_count": 5,
   "id": "bb38321f",
   "metadata": {},
   "outputs": [
    {
     "name": "stdout",
     "output_type": "stream",
     "text": [
      "check is num 10 is Even\n"
     ]
    }
   ],
   "source": [
    "is_even =lambda x:\"Even\" if x %2==0 else \"Odd\"\n",
    "n=10\n",
    "print('check is num {} is {}'.format(n,is_even(n)))"
   ]
  },
  {
   "cell_type": "code",
   "execution_count": null,
   "id": "9face9e0",
   "metadata": {},
   "outputs": [],
   "source": []
  },
  {
   "cell_type": "markdown",
   "id": "b9af470c",
   "metadata": {},
   "source": [
    "###### Example 3: Finding the maximum of three numbers"
   ]
  },
  {
   "cell_type": "code",
   "execution_count": 14,
   "id": "ffa2ba2d",
   "metadata": {},
   "outputs": [
    {
     "name": "stdout",
     "output_type": "stream",
     "text": [
      "max number of [10, -20, 30, 90] is a : 90 \n"
     ]
    }
   ],
   "source": [
    "max_Num=lambda *x:max(*x)\n",
    "num=[10,-20,30,90]\n",
    "\n",
    "print(\"max number of {} is a : {} \".format(num,max_Num(num)))"
   ]
  },
  {
   "cell_type": "code",
   "execution_count": null,
   "id": "8a64446d",
   "metadata": {},
   "outputs": [],
   "source": []
  },
  {
   "cell_type": "markdown",
   "id": "91683751",
   "metadata": {},
   "source": [
    " "
   ]
  },
  {
   "cell_type": "markdown",
   "id": "6d41a786",
   "metadata": {},
   "source": [
    "# Filter "
   ]
  },
  {
   "cell_type": "markdown",
   "id": "b4fb54f1",
   "metadata": {},
   "source": [
    "###### Example 1: Filter out even numbers from a list\n"
   ]
  },
  {
   "cell_type": "code",
   "execution_count": 21,
   "id": "e61593b4",
   "metadata": {},
   "outputs": [
    {
     "name": "stdout",
     "output_type": "stream",
     "text": [
      "Even numbers: [0, 2, 4, 6, 8, 10]\n"
     ]
    }
   ],
   "source": [
    "numbers = list(range(0,11))\n",
    "check_even=list(filter(lambda x:x%2==0,numbers)  )\n",
    "print(\"Even numbers:\", check_even)  "
   ]
  },
  {
   "cell_type": "code",
   "execution_count": null,
   "id": "458b01e1",
   "metadata": {},
   "outputs": [],
   "source": []
  },
  {
   "cell_type": "markdown",
   "id": "5e8844d9",
   "metadata": {},
   "source": [
    "###### Example 2: Filter strings with more than 3 characters"
   ]
  },
  {
   "cell_type": "code",
   "execution_count": 26,
   "id": "20a227b3",
   "metadata": {},
   "outputs": [
    {
     "name": "stdout",
     "output_type": "stream",
     "text": [
      " words is 3 char : ['cat', 'dog', 'ant']\n"
     ]
    }
   ],
   "source": [
    "words = [\"cat\", \"dog\", \"elephant\", \"bird\", \"ant\"]\n",
    "char_3=list(filter(lambda w:len(w)==3 , words))\n",
    "print(\" words is 3 char :\", char_3)"
   ]
  },
  {
   "cell_type": "code",
   "execution_count": null,
   "id": "314c8917",
   "metadata": {},
   "outputs": [],
   "source": []
  },
  {
   "cell_type": "markdown",
   "id": "749dafe7",
   "metadata": {},
   "source": [
    "###### Example 3: Filter out negative numbers"
   ]
  },
  {
   "cell_type": "code",
   "execution_count": 27,
   "id": "8d5c4efa",
   "metadata": {},
   "outputs": [
    {
     "name": "stdout",
     "output_type": "stream",
     "text": [
      "Positive numbers: [15, 7, 12]\n"
     ]
    }
   ],
   "source": [
    "numbers = [-10, 15, -3, 7, -5, 12]\n",
    "pos_num = list(filter(lambda n:n>0 , numbers))\n",
    "print(\"Positive numbers:\", pos_num)"
   ]
  },
  {
   "cell_type": "code",
   "execution_count": null,
   "id": "0825ca21",
   "metadata": {},
   "outputs": [],
   "source": []
  },
  {
   "cell_type": "markdown",
   "id": "ef79af5a",
   "metadata": {},
   "source": [
    " "
   ]
  },
  {
   "cell_type": "markdown",
   "id": "45cb1113",
   "metadata": {},
   "source": [
    " "
   ]
  },
  {
   "cell_type": "markdown",
   "id": "6724fdae",
   "metadata": {},
   "source": [
    "# Map Examples:"
   ]
  },
  {
   "cell_type": "markdown",
   "id": "4de7ef36",
   "metadata": {},
   "source": [
    "###### Example 1: Square each number in a list"
   ]
  },
  {
   "cell_type": "code",
   "execution_count": 28,
   "id": "0b6e501e",
   "metadata": {},
   "outputs": [
    {
     "name": "stdout",
     "output_type": "stream",
     "text": [
      "Squared numbers: [1, 4, 9, 16, 25]\n"
     ]
    }
   ],
   "source": [
    "numbers = [1, 2, 3, 4, 5]\n",
    "squar_num=list(map(lambda x:x**2 , numbers))\n",
    "print(\"Squared numbers:\", squar_num) "
   ]
  },
  {
   "cell_type": "code",
   "execution_count": null,
   "id": "08c1e438",
   "metadata": {},
   "outputs": [],
   "source": []
  },
  {
   "cell_type": "markdown",
   "id": "b9a6b747",
   "metadata": {},
   "source": [
    "###### Example 2: Add a fixed value to each element in a list"
   ]
  },
  {
   "cell_type": "code",
   "execution_count": 29,
   "id": "8693c4fe",
   "metadata": {},
   "outputs": [
    {
     "name": "stdout",
     "output_type": "stream",
     "text": [
      "Numbers after addition: [80, 71, 95, 52]\n"
     ]
    }
   ],
   "source": [
    "numbers = [77,68,92,49]\n",
    "add=list(map(lambda x:x+3,numbers))\n",
    "print(\"Numbers after addition:\", add)  "
   ]
  },
  {
   "cell_type": "code",
   "execution_count": null,
   "id": "1a63b21d",
   "metadata": {},
   "outputs": [],
   "source": []
  }
 ],
 "metadata": {
  "kernelspec": {
   "display_name": "Python 3 (ipykernel)",
   "language": "python",
   "name": "python3"
  },
  "language_info": {
   "codemirror_mode": {
    "name": "ipython",
    "version": 3
   },
   "file_extension": ".py",
   "mimetype": "text/x-python",
   "name": "python",
   "nbconvert_exporter": "python",
   "pygments_lexer": "ipython3",
   "version": "3.9.13"
  }
 },
 "nbformat": 4,
 "nbformat_minor": 5
}
