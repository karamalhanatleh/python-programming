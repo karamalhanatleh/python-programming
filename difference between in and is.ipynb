{
 "cells": [
  {
   "cell_type": "markdown",
   "id": "e27814fb",
   "metadata": {},
   "source": [
    "# difference between in and is>>\n"
   ]
  },
  {
   "cell_type": "code",
   "execution_count": null,
   "id": "4a1a59ea",
   "metadata": {},
   "outputs": [],
   "source": []
  },
  {
   "cell_type": "markdown",
   "id": "cc0e3df5",
   "metadata": {},
   "source": [
    "### in\n"
   ]
  },
  {
   "cell_type": "markdown",
   "id": "7e57d69e",
   "metadata": {},
   "source": [
    " The in keyword is used to check if a substring exists within a string. It evaluates to True if the substring is found and False otherwise.\n"
   ]
  },
  {
   "cell_type": "code",
   "execution_count": 7,
   "id": "83741492",
   "metadata": {},
   "outputs": [],
   "source": [
    "text = \"Hello, world!\""
   ]
  },
  {
   "cell_type": "code",
   "execution_count": 8,
   "id": "b103c4ca",
   "metadata": {},
   "outputs": [
    {
     "data": {
      "text/plain": [
       "True"
      ]
     },
     "execution_count": 8,
     "metadata": {},
     "output_type": "execute_result"
    }
   ],
   "source": [
    "substring=\"world\"\n",
    "substring in text\n"
   ]
  },
  {
   "cell_type": "code",
   "execution_count": 9,
   "id": "72b3305d",
   "metadata": {},
   "outputs": [
    {
     "data": {
      "text/plain": [
       "False"
      ]
     },
     "execution_count": 9,
     "metadata": {},
     "output_type": "execute_result"
    }
   ],
   "source": [
    "substring=\"web\"\n",
    "substring in text\n"
   ]
  },
  {
   "cell_type": "code",
   "execution_count": null,
   "id": "408f4976",
   "metadata": {},
   "outputs": [],
   "source": []
  },
  {
   "cell_type": "markdown",
   "id": "677077ad",
   "metadata": {},
   "source": [
    "### is"
   ]
  },
  {
   "cell_type": "markdown",
   "id": "f527fca2",
   "metadata": {},
   "source": [
    "The is keyword is used to check if two variables point to the same object in memory, not if their contents are the same. It is not typically used for substring checks.\n",
    "\n"
   ]
  },
  {
   "cell_type": "code",
   "execution_count": 10,
   "id": "3fee1bb7",
   "metadata": {},
   "outputs": [],
   "source": [
    "a = \"Hello, world!\"\n",
    "b = \"Hello, world!\""
   ]
  },
  {
   "cell_type": "code",
   "execution_count": 12,
   "id": "1afa9e48",
   "metadata": {},
   "outputs": [],
   "source": [
    "c = a"
   ]
  },
  {
   "cell_type": "code",
   "execution_count": 15,
   "id": "15a0f7b2",
   "metadata": {},
   "outputs": [
    {
     "name": "stdout",
     "output_type": "stream",
     "text": [
      "False\n"
     ]
    }
   ],
   "source": [
    "print(a is b)  \n"
   ]
  },
  {
   "cell_type": "code",
   "execution_count": 16,
   "id": "86cfe9f0",
   "metadata": {},
   "outputs": [
    {
     "name": "stdout",
     "output_type": "stream",
     "text": [
      "True\n"
     ]
    }
   ],
   "source": [
    "print(a is c)  # This will print True, as both variables refer to the same object"
   ]
  },
  {
   "cell_type": "code",
   "execution_count": null,
   "id": "2c5ac974",
   "metadata": {},
   "outputs": [],
   "source": []
  }
 ],
 "metadata": {
  "kernelspec": {
   "display_name": "Python 3 (ipykernel)",
   "language": "python",
   "name": "python3"
  },
  "language_info": {
   "codemirror_mode": {
    "name": "ipython",
    "version": 3
   },
   "file_extension": ".py",
   "mimetype": "text/x-python",
   "name": "python",
   "nbconvert_exporter": "python",
   "pygments_lexer": "ipython3",
   "version": "3.9.13"
  }
 },
 "nbformat": 4,
 "nbformat_minor": 5
}
