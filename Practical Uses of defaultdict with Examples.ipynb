{
 "cells": [
  {
   "cell_type": "code",
   "execution_count": null,
   "id": "a4819271",
   "metadata": {},
   "outputs": [],
   "source": []
  },
  {
   "cell_type": "code",
   "execution_count": 30,
   "id": "1be5dc73",
   "metadata": {},
   "outputs": [],
   "source": [
    "#import paskage\n",
    "from collections import defaultdict\n"
   ]
  },
  {
   "cell_type": "markdown",
   "id": "05734c23",
   "metadata": {},
   "source": [
    "## Grouping Items by Keys:"
   ]
  },
  {
   "cell_type": "markdown",
   "id": "e33f6768",
   "metadata": {},
   "source": [
    " use defaultdict(list) to group elements based on a common key.\n",
    "\n"
   ]
  },
  {
   "cell_type": "code",
   "execution_count": 5,
   "id": "c0d90867",
   "metadata": {},
   "outputs": [],
   "source": [
    "names = [\"Alice\", \"Anna\", \"Bob\", \"Charlie\", \"David\", \"Diana\"]\n",
    "grouped_names = defaultdict(list)"
   ]
  },
  {
   "cell_type": "code",
   "execution_count": 7,
   "id": "1f6b2984",
   "metadata": {},
   "outputs": [],
   "source": [
    "for name in names:\n",
    "    f_l=name[0]\n",
    "    grouped_names[f_l].append(name)"
   ]
  },
  {
   "cell_type": "code",
   "execution_count": 9,
   "id": "37355f63",
   "metadata": {},
   "outputs": [
    {
     "name": "stdout",
     "output_type": "stream",
     "text": [
      "A: ['Alice', 'Anna']\n",
      "B: ['Bob']\n",
      "C: ['Charlie']\n",
      "D: ['David', 'Diana']\n"
     ]
    }
   ],
   "source": [
    "for letter , g in grouped_names.items():\n",
    "    print(f\"{letter}: {g}\")"
   ]
  },
  {
   "cell_type": "code",
   "execution_count": null,
   "id": "6ee045c9",
   "metadata": {},
   "outputs": [],
   "source": []
  },
  {
   "cell_type": "markdown",
   "id": "11eebac0",
   "metadata": {},
   "source": [
    "### Counting Elements (similar to collections.Counter):"
   ]
  },
  {
   "cell_type": "markdown",
   "id": "ce1fdaf2",
   "metadata": {},
   "source": [
    "use defaultdict(int) to count the occurrences of elements in a list."
   ]
  },
  {
   "cell_type": "code",
   "execution_count": 10,
   "id": "ea14cad2",
   "metadata": {},
   "outputs": [],
   "source": [
    "# Counting  number of occurrences of each word\n",
    "words = [\"apple\", \"banana\", \"apple\", \"orange\", \"banana\", \"apple\"]\n"
   ]
  },
  {
   "cell_type": "code",
   "execution_count": 11,
   "id": "2a05df95",
   "metadata": {},
   "outputs": [],
   "source": [
    "word_count=defaultdict(int)"
   ]
  },
  {
   "cell_type": "code",
   "execution_count": 12,
   "id": "67a30f35",
   "metadata": {},
   "outputs": [],
   "source": [
    "for word in words:\n",
    "    word_count[word]+=1"
   ]
  },
  {
   "cell_type": "code",
   "execution_count": 14,
   "id": "d4517835",
   "metadata": {},
   "outputs": [
    {
     "name": "stdout",
     "output_type": "stream",
     "text": [
      "apple: 3\n",
      "banana: 2\n",
      "orange: 1\n"
     ]
    }
   ],
   "source": [
    "# Output word counts\n",
    "for word, count in word_count.items():\n",
    "    print(f\"{word}: {count}\")"
   ]
  },
  {
   "cell_type": "code",
   "execution_count": null,
   "id": "c4fe9cbd",
   "metadata": {},
   "outputs": [],
   "source": []
  },
  {
   "cell_type": "markdown",
   "id": "dbe971ee",
   "metadata": {},
   "source": [
    "### Accumulating Values:"
   ]
  },
  {
   "cell_type": "markdown",
   "id": "524fb774",
   "metadata": {},
   "source": [
    "use defaultdict(list) to accumulate values associated with keys."
   ]
  },
  {
   "cell_type": "code",
   "execution_count": 17,
   "id": "ec70c836",
   "metadata": {},
   "outputs": [
    {
     "data": {
      "text/plain": [
       "[('John', 85), ('Jane', 90), ('John', 78), ('Jane', 95), ('John', 88)]"
      ]
     },
     "execution_count": 17,
     "metadata": {},
     "output_type": "execute_result"
    }
   ],
   "source": [
    "# Storing multiple grades for students\n",
    "grades = [(\"John\", 85), (\"Jane\", 90), (\"John\", 78), (\"Jane\", 95), (\"John\", 88)]\n",
    "grades"
   ]
  },
  {
   "cell_type": "code",
   "execution_count": 18,
   "id": "7f6837ce",
   "metadata": {},
   "outputs": [],
   "source": [
    "student_grades=defaultdict(list)"
   ]
  },
  {
   "cell_type": "code",
   "execution_count": 19,
   "id": "c37c97aa",
   "metadata": {},
   "outputs": [],
   "source": [
    "for student,grade in grades:\n",
    "    student_grades[student].append(grade)"
   ]
  },
  {
   "cell_type": "code",
   "execution_count": 20,
   "id": "1de0284e",
   "metadata": {},
   "outputs": [
    {
     "name": "stdout",
     "output_type": "stream",
     "text": [
      "John: [85, 78, 88]\n",
      "Jane: [90, 95]\n"
     ]
    }
   ],
   "source": [
    "# Output student grades\n",
    "for student, grades in student_grades.items():\n",
    "    print(f\"{student}: {grades}\")"
   ]
  },
  {
   "cell_type": "code",
   "execution_count": null,
   "id": "22107c45",
   "metadata": {},
   "outputs": [],
   "source": []
  },
  {
   "cell_type": "code",
   "execution_count": null,
   "id": "5ca978db",
   "metadata": {},
   "outputs": [],
   "source": []
  },
  {
   "cell_type": "markdown",
   "id": "5610908e",
   "metadata": {},
   "source": [
    "### Grouping Numbers by Remainder:"
   ]
  },
  {
   "cell_type": "markdown",
   "id": "528f8d95",
   "metadata": {},
   "source": [
    "use defaultdict to group numbers based on their remainder when divided by a given number."
   ]
  },
  {
   "cell_type": "code",
   "execution_count": 23,
   "id": "fafc05e8",
   "metadata": {},
   "outputs": [],
   "source": [
    "numbers = [1, 2, 3, 4, 5, 6, 7, 8, 9, 10]\n",
    "\n",
    "group_by_remainder =defaultdict(list)"
   ]
  },
  {
   "cell_type": "code",
   "execution_count": 24,
   "id": "3a6f1336",
   "metadata": {},
   "outputs": [],
   "source": [
    "for num in numbers:\n",
    "    rem=num%3\n",
    "    group_by_remainder[rem].append(num)"
   ]
  },
  {
   "cell_type": "code",
   "execution_count": 25,
   "id": "d4ed6dbe",
   "metadata": {},
   "outputs": [
    {
     "name": "stdout",
     "output_type": "stream",
     "text": [
      "Remainder 1: [1, 4, 7, 10]\n",
      "Remainder 2: [2, 5, 8]\n",
      "Remainder 0: [3, 6, 9]\n"
     ]
    }
   ],
   "source": [
    "# Output grouped numbers\n",
    "for remainder, group in group_by_remainder.items():\n",
    "    print(f\"Remainder {remainder}: {group}\")"
   ]
  },
  {
   "cell_type": "code",
   "execution_count": null,
   "id": "0c7d7b03",
   "metadata": {},
   "outputs": [],
   "source": []
  },
  {
   "cell_type": "markdown",
   "id": "a2d90cc5",
   "metadata": {},
   "source": [
    "### Tracking the Index of Elements:"
   ]
  },
  {
   "cell_type": "markdown",
   "id": "dd081706",
   "metadata": {},
   "source": [
    "use defaultdict(list) to track the indices of each occurrence of elements in a list."
   ]
  },
  {
   "cell_type": "code",
   "execution_count": 27,
   "id": "d5c5ee3d",
   "metadata": {},
   "outputs": [],
   "source": [
    "words = [\"apple\", \"banana\", \"apple\", \"orange\", \"banana\", \"apple\"]\n",
    "word_indices = defaultdict(list)\n"
   ]
  },
  {
   "cell_type": "code",
   "execution_count": 28,
   "id": "375191dc",
   "metadata": {},
   "outputs": [],
   "source": [
    "for index,w in enumerate(words):\n",
    "    word_indices[word].append(index)"
   ]
  },
  {
   "cell_type": "code",
   "execution_count": 29,
   "id": "6cb37cf5",
   "metadata": {},
   "outputs": [
    {
     "name": "stdout",
     "output_type": "stream",
     "text": [
      "orange: [0, 1, 2, 3, 4, 5]\n"
     ]
    }
   ],
   "source": [
    "# Output word indices\n",
    "for word, indices in word_indices.items():\n",
    "    print(f\"{word}: {indices}\")"
   ]
  },
  {
   "cell_type": "code",
   "execution_count": null,
   "id": "01dd7b4f",
   "metadata": {},
   "outputs": [],
   "source": []
  },
  {
   "cell_type": "code",
   "execution_count": null,
   "id": "bdb8babc",
   "metadata": {},
   "outputs": [],
   "source": []
  },
  {
   "cell_type": "code",
   "execution_count": null,
   "id": "1eda8af0",
   "metadata": {},
   "outputs": [],
   "source": []
  },
  {
   "cell_type": "code",
   "execution_count": null,
   "id": "f45b5129",
   "metadata": {},
   "outputs": [],
   "source": []
  }
 ],
 "metadata": {
  "kernelspec": {
   "display_name": "Python 3 (ipykernel)",
   "language": "python",
   "name": "python3"
  },
  "language_info": {
   "codemirror_mode": {
    "name": "ipython",
    "version": 3
   },
   "file_extension": ".py",
   "mimetype": "text/x-python",
   "name": "python",
   "nbconvert_exporter": "python",
   "pygments_lexer": "ipython3",
   "version": "3.9.13"
  }
 },
 "nbformat": 4,
 "nbformat_minor": 5
}
