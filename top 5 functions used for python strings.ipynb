{
 "cells": [
  {
   "cell_type": "markdown",
   "id": "a89b139c",
   "metadata": {},
   "source": [
    "# top 5 functions used for python strings"
   ]
  },
  {
   "cell_type": "code",
   "execution_count": null,
   "id": "1905cffb",
   "metadata": {},
   "outputs": [],
   "source": []
  },
  {
   "cell_type": "markdown",
   "id": "4abb762b",
   "metadata": {},
   "source": [
    "### len()"
   ]
  },
  {
   "cell_type": "markdown",
   "id": "c2213150",
   "metadata": {},
   "source": [
    ": Returns the length of a string."
   ]
  },
  {
   "cell_type": "code",
   "execution_count": 1,
   "id": "7642f5c9",
   "metadata": {},
   "outputs": [
    {
     "name": "stdout",
     "output_type": "stream",
     "text": [
      "12\n"
     ]
    }
   ],
   "source": [
    "#ex1\n",
    "txt='Hello mr Ali'\n",
    "length=len(txt)\n",
    "print(length)"
   ]
  },
  {
   "cell_type": "code",
   "execution_count": 3,
   "id": "7f213cf9",
   "metadata": {},
   "outputs": [
    {
     "name": "stdout",
     "output_type": "stream",
     "text": [
      "10\n"
     ]
    }
   ],
   "source": [
    "#ex2\n",
    "txt=\"0123456789\"\n",
    "length=len(txt)\n",
    "print(length)"
   ]
  },
  {
   "cell_type": "code",
   "execution_count": null,
   "id": "199b8cbb",
   "metadata": {},
   "outputs": [],
   "source": []
  },
  {
   "cell_type": "markdown",
   "id": "b06f44d5",
   "metadata": {},
   "source": [
    "### strip()"
   ]
  },
  {
   "cell_type": "markdown",
   "id": "56c07b1e",
   "metadata": {},
   "source": [
    " Removes leading and trailing whitespace from a string."
   ]
  },
  {
   "cell_type": "code",
   "execution_count": 4,
   "id": "445aecad",
   "metadata": {},
   "outputs": [
    {
     "name": "stdout",
     "output_type": "stream",
     "text": [
      "Hello, World!\n"
     ]
    }
   ],
   "source": [
    "text = \"   Hello, World!   \"\n",
    "strip_txt= text.strip()\n",
    "print(strip_txt)"
   ]
  },
  {
   "cell_type": "code",
   "execution_count": 6,
   "id": "d336d9ee",
   "metadata": {},
   "outputs": [
    {
     "name": "stdout",
     "output_type": "stream",
     "text": [
      "length before strip 19\n",
      "length after strip 13\n"
     ]
    }
   ],
   "source": [
    "print(f\"length before strip {len(text)}\")\n",
    "print(f\"length after strip {len(strip_txt)}\")"
   ]
  },
  {
   "cell_type": "code",
   "execution_count": null,
   "id": "d6e77a53",
   "metadata": {},
   "outputs": [],
   "source": []
  },
  {
   "cell_type": "markdown",
   "id": "fe7bcc50",
   "metadata": {},
   "source": [
    "### split()"
   ]
  },
  {
   "cell_type": "markdown",
   "id": "123fdc06",
   "metadata": {},
   "source": [
    "plits a string into a list of substrings based on a delimiter."
   ]
  },
  {
   "cell_type": "code",
   "execution_count": 7,
   "id": "af3d750c",
   "metadata": {},
   "outputs": [
    {
     "name": "stdout",
     "output_type": "stream",
     "text": [
      "['Hello,', 'World!', 'How', 'are', 'you?']\n"
     ]
    }
   ],
   "source": [
    "text = \"Hello, World! How are you?\"\n",
    "print(text.split(\" \"))"
   ]
  },
  {
   "cell_type": "code",
   "execution_count": 8,
   "id": "94fa5418",
   "metadata": {},
   "outputs": [
    {
     "name": "stdout",
     "output_type": "stream",
     "text": [
      "['00962771******', '00962779******', '00962785******']\n"
     ]
    }
   ],
   "source": [
    "#ex2\n",
    "num_phone=\"00962771******,00962779******,00962785******\"\n",
    "print(num_phone.split(\",\"))"
   ]
  },
  {
   "cell_type": "code",
   "execution_count": null,
   "id": "a80a9030",
   "metadata": {},
   "outputs": [],
   "source": []
  },
  {
   "cell_type": "markdown",
   "id": "8d2825a7",
   "metadata": {},
   "source": [
    "### replace()"
   ]
  },
  {
   "cell_type": "markdown",
   "id": "4bf4791c",
   "metadata": {},
   "source": [
    " Replaces all occurrences of a specified string with another string."
   ]
  },
  {
   "cell_type": "code",
   "execution_count": 9,
   "id": "670ac66a",
   "metadata": {},
   "outputs": [
    {
     "name": "stdout",
     "output_type": "stream",
     "text": [
      "hello Mr Ali\n"
     ]
    }
   ],
   "source": [
    "txt=\"hello Mr Karam\"\n",
    "print(txt.replace(\"Karam\",\"Ali\"))"
   ]
  },
  {
   "cell_type": "code",
   "execution_count": 10,
   "id": "354f06ca",
   "metadata": {},
   "outputs": [
    {
     "name": "stdout",
     "output_type": "stream",
     "text": [
      "i will go to Jordan\n"
     ]
    }
   ],
   "source": [
    "txt=\"i will go to USA\"\n",
    "print(txt.replace(\"USA\",\"Jordan\"))"
   ]
  },
  {
   "cell_type": "code",
   "execution_count": null,
   "id": "1cc06a44",
   "metadata": {},
   "outputs": [],
   "source": []
  },
  {
   "cell_type": "markdown",
   "id": "c8021672",
   "metadata": {},
   "source": [
    "### upper()"
   ]
  },
  {
   "cell_type": "code",
   "execution_count": 11,
   "id": "18db42d9",
   "metadata": {},
   "outputs": [
    {
     "name": "stdout",
     "output_type": "stream",
     "text": [
      "HELLO, WORLD!\n"
     ]
    }
   ],
   "source": [
    "text = \"Hello, World!\"\n",
    "print(text.upper())"
   ]
  },
  {
   "cell_type": "code",
   "execution_count": null,
   "id": "55d8bc56",
   "metadata": {},
   "outputs": [],
   "source": []
  },
  {
   "cell_type": "markdown",
   "id": "d7b179a6",
   "metadata": {},
   "source": [
    "###### lower"
   ]
  },
  {
   "cell_type": "code",
   "execution_count": 12,
   "id": "6ab803a8",
   "metadata": {},
   "outputs": [
    {
     "name": "stdout",
     "output_type": "stream",
     "text": [
      "hello, world!\n"
     ]
    }
   ],
   "source": [
    "text = \"Hello, World!\"\n",
    "print(text.lower())"
   ]
  },
  {
   "cell_type": "code",
   "execution_count": null,
   "id": "f8f805b2",
   "metadata": {},
   "outputs": [],
   "source": []
  }
 ],
 "metadata": {
  "kernelspec": {
   "display_name": "Python 3 (ipykernel)",
   "language": "python",
   "name": "python3"
  },
  "language_info": {
   "codemirror_mode": {
    "name": "ipython",
    "version": 3
   },
   "file_extension": ".py",
   "mimetype": "text/x-python",
   "name": "python",
   "nbconvert_exporter": "python",
   "pygments_lexer": "ipython3",
   "version": "3.9.13"
  }
 },
 "nbformat": 4,
 "nbformat_minor": 5
}
