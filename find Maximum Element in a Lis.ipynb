{
 "cells": [
  {
   "cell_type": "markdown",
   "id": "ee087095",
   "metadata": {},
   "source": [
    "# find Maximum Element in a List"
   ]
  },
  {
   "cell_type": "markdown",
   "id": "1d5ecca6",
   "metadata": {},
   "source": [
    "###### Using User-defined Function:\n",
    "\n"
   ]
  },
  {
   "cell_type": "code",
   "execution_count": 10,
   "id": "32d00bd0",
   "metadata": {},
   "outputs": [],
   "source": [
    "def find_max_v(List):\n",
    "    if len(List)==0:\n",
    "        return None\n",
    "    max_v=List[0]\n",
    "    for num in List:\n",
    "        if num>max_v:\n",
    "            max_v=num\n",
    "    return max_v"
   ]
  },
  {
   "cell_type": "code",
   "execution_count": 12,
   "id": "b039bcf2",
   "metadata": {},
   "outputs": [],
   "source": [
    "l1=[1,-99,122,10]"
   ]
  },
  {
   "cell_type": "code",
   "execution_count": 13,
   "id": "642fe4b4",
   "metadata": {},
   "outputs": [
    {
     "data": {
      "text/plain": [
       "122"
      ]
     },
     "execution_count": 13,
     "metadata": {},
     "output_type": "execute_result"
    }
   ],
   "source": [
    "find_max_v(l1)"
   ]
  },
  {
   "cell_type": "code",
   "execution_count": null,
   "id": "7241b241",
   "metadata": {},
   "outputs": [],
   "source": []
  },
  {
   "cell_type": "markdown",
   "id": "6fb03bd6",
   "metadata": {},
   "source": [
    "###### or with dirclt function max()"
   ]
  },
  {
   "cell_type": "code",
   "execution_count": 14,
   "id": "9716a2ec",
   "metadata": {},
   "outputs": [
    {
     "data": {
      "text/plain": [
       "122"
      ]
     },
     "execution_count": 14,
     "metadata": {},
     "output_type": "execute_result"
    }
   ],
   "source": [
    "max(l1)"
   ]
  },
  {
   "cell_type": "code",
   "execution_count": null,
   "id": "f585a704",
   "metadata": {},
   "outputs": [],
   "source": []
  }
 ],
 "metadata": {
  "kernelspec": {
   "display_name": "Python 3 (ipykernel)",
   "language": "python",
   "name": "python3"
  },
  "language_info": {
   "codemirror_mode": {
    "name": "ipython",
    "version": 3
   },
   "file_extension": ".py",
   "mimetype": "text/x-python",
   "name": "python",
   "nbconvert_exporter": "python",
   "pygments_lexer": "ipython3",
   "version": "3.9.13"
  }
 },
 "nbformat": 4,
 "nbformat_minor": 5
}
