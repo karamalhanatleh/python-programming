{
 "cells": [
  {
   "cell_type": "markdown",
   "id": "cb6d37d1",
   "metadata": {},
   "source": [
    "# Merge Two Sorted Lists  "
   ]
  },
  {
   "cell_type": "code",
   "execution_count": null,
   "id": "4e08748b",
   "metadata": {},
   "outputs": [],
   "source": [
    "deg merge_list_sorted(list1,list2):\n",
    "    merge=[]\n",
    "    \n",
    "    for i in range(len(list2)):\n",
    "        list1.append(list2[i])"
   ]
  },
  {
   "cell_type": "code",
   "execution_count": 11,
   "id": "041c0e10",
   "metadata": {},
   "outputs": [],
   "source": [
    "l1=[1,3,5,7,9]\n",
    "l2=[2,4,6,8]\n",
    "m=[]\n",
    "\n"
   ]
  },
  {
   "cell_type": "code",
   "execution_count": 15,
   "id": "112f567a",
   "metadata": {},
   "outputs": [],
   "source": [
    "a=\"Hello wolrd\""
   ]
  },
  {
   "cell_type": "code",
   "execution_count": 22,
   "id": "92116b43",
   "metadata": {},
   "outputs": [],
   "source": [
    "s=[]\n",
    "for i in list(a):\n",
    "    if i not in s:\n",
    "        s.append(i)"
   ]
  },
  {
   "cell_type": "code",
   "execution_count": 24,
   "id": "8c0a81b3",
   "metadata": {},
   "outputs": [],
   "source": [
    "s=\"\".join(s)"
   ]
  },
  {
   "cell_type": "code",
   "execution_count": 25,
   "id": "27cb16dc",
   "metadata": {},
   "outputs": [
    {
     "data": {
      "text/plain": [
       "'Helo wrd'"
      ]
     },
     "execution_count": 25,
     "metadata": {},
     "output_type": "execute_result"
    }
   ],
   "source": [
    "s"
   ]
  },
  {
   "cell_type": "code",
   "execution_count": null,
   "id": "9deac3de",
   "metadata": {},
   "outputs": [],
   "source": []
  }
 ],
 "metadata": {
  "kernelspec": {
   "display_name": "Python 3 (ipykernel)",
   "language": "python",
   "name": "python3"
  },
  "language_info": {
   "codemirror_mode": {
    "name": "ipython",
    "version": 3
   },
   "file_extension": ".py",
   "mimetype": "text/x-python",
   "name": "python",
   "nbconvert_exporter": "python",
   "pygments_lexer": "ipython3",
   "version": "3.9.13"
  }
 },
 "nbformat": 4,
 "nbformat_minor": 5
}
