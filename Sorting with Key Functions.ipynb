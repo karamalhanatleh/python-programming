{
 "cells": [
  {
   "cell_type": "markdown",
   "id": "9c83ae8a",
   "metadata": {},
   "source": [
    "# Sorting with Key Functions"
   ]
  },
  {
   "cell_type": "code",
   "execution_count": null,
   "id": "2998526b",
   "metadata": {},
   "outputs": [],
   "source": []
  },
  {
   "cell_type": "markdown",
   "id": "faf4e72c",
   "metadata": {},
   "source": [
    "### Sorting Strings by Length"
   ]
  },
  {
   "cell_type": "markdown",
   "id": "9665f561",
   "metadata": {},
   "source": [
    "we’ll use the len function as the key to sort strings based on their length."
   ]
  },
  {
   "cell_type": "code",
   "execution_count": 1,
   "id": "b17a2592",
   "metadata": {},
   "outputs": [],
   "source": [
    "#list of string \n",
    "words = [\"Karam\", \"Omar\", \"Ali\", \"Suleiman\",'Alhanatleh']"
   ]
  },
  {
   "cell_type": "code",
   "execution_count": 2,
   "id": "36a96e2f",
   "metadata": {},
   "outputs": [],
   "source": [
    "# Sort by the length of each string\n",
    "words.sort(key=len)"
   ]
  },
  {
   "cell_type": "code",
   "execution_count": 3,
   "id": "809da095",
   "metadata": {},
   "outputs": [
    {
     "name": "stdout",
     "output_type": "stream",
     "text": [
      "['Ali', 'Omar', 'Karam', 'Suleiman', 'Alhanatleh']\n"
     ]
    }
   ],
   "source": [
    "#print after sorting\n",
    "print(words)"
   ]
  },
  {
   "cell_type": "code",
   "execution_count": null,
   "id": "8d5b4115",
   "metadata": {},
   "outputs": [],
   "source": []
  },
  {
   "cell_type": "markdown",
   "id": "ae5caca4",
   "metadata": {},
   "source": [
    "### Sorting Numbers by Absolute Value"
   ]
  },
  {
   "cell_type": "markdown",
   "id": "5711122b",
   "metadata": {},
   "source": [
    "use the abs() function to sort a list of numbers by their absolute values."
   ]
  },
  {
   "cell_type": "code",
   "execution_count": 20,
   "id": "12b39f50",
   "metadata": {},
   "outputs": [
    {
     "data": {
      "text/plain": [
       "[-3, 5, -1, -7, 2]"
      ]
     },
     "execution_count": 20,
     "metadata": {},
     "output_type": "execute_result"
    }
   ],
   "source": [
    "# List of numbers\n",
    "num = [-3, 5, -1, -7, 2]\n",
    "num"
   ]
  },
  {
   "cell_type": "code",
   "execution_count": 21,
   "id": "88778892",
   "metadata": {},
   "outputs": [],
   "source": [
    "# Sort by the absolute value of each number\n",
    "num.sort(key=abs)"
   ]
  },
  {
   "cell_type": "code",
   "execution_count": 22,
   "id": "50d85c49",
   "metadata": {},
   "outputs": [
    {
     "data": {
      "text/plain": [
       "[-1, 2, -3, 5, -7]"
      ]
     },
     "execution_count": 22,
     "metadata": {},
     "output_type": "execute_result"
    }
   ],
   "source": [
    "#print it \n",
    "num"
   ]
  },
  {
   "cell_type": "code",
   "execution_count": null,
   "id": "3fb4bc56",
   "metadata": {},
   "outputs": [],
   "source": []
  },
  {
   "cell_type": "markdown",
   "id": "a9948887",
   "metadata": {},
   "source": [
    "### Sorting a List of Tuples by the Second Element"
   ]
  },
  {
   "cell_type": "code",
   "execution_count": 24,
   "id": "bcea35c4",
   "metadata": {},
   "outputs": [
    {
     "data": {
      "text/plain": [
       "[(10, 10), (2, 5), (3, -5), (1, 2)]"
      ]
     },
     "execution_count": 24,
     "metadata": {},
     "output_type": "execute_result"
    }
   ],
   "source": [
    "# List of tuples\n",
    "pairs = [(10,10), (2, 5), (3, -5), (1, 2)]\n",
    "pairs"
   ]
  },
  {
   "cell_type": "code",
   "execution_count": 25,
   "id": "0650407d",
   "metadata": {},
   "outputs": [],
   "source": [
    "# Sort by the second element of each tuple\n",
    "pairs.sort(key=lambda x:x[-1])"
   ]
  },
  {
   "cell_type": "code",
   "execution_count": 26,
   "id": "1fa37572",
   "metadata": {},
   "outputs": [
    {
     "data": {
      "text/plain": [
       "[(3, -5), (1, 2), (2, 5), (10, 10)]"
      ]
     },
     "execution_count": 26,
     "metadata": {},
     "output_type": "execute_result"
    }
   ],
   "source": [
    "#print it \n",
    "pairs"
   ]
  },
  {
   "cell_type": "code",
   "execution_count": null,
   "id": "a3ef90b2",
   "metadata": {},
   "outputs": [],
   "source": []
  },
  {
   "cell_type": "markdown",
   "id": "de6474ab",
   "metadata": {},
   "source": [
    "### Sorting Custom Objects by Attribute"
   ]
  },
  {
   "cell_type": "code",
   "execution_count": 27,
   "id": "488a48d9",
   "metadata": {},
   "outputs": [],
   "source": [
    "# Define a class Person with two attributes: name and age\n",
    "class Person:\n",
    "    def __init__(self,name,age):\n",
    "        self.name=name\n",
    "        self.age=age"
   ]
  },
  {
   "cell_type": "code",
   "execution_count": 30,
   "id": "e87731cc",
   "metadata": {},
   "outputs": [],
   "source": [
    "#create list people\n",
    "peo=[Person(\"Ali\",22),Person(\"karam\",24),Person('saed',19)]"
   ]
  },
  {
   "cell_type": "code",
   "execution_count": 31,
   "id": "759616c6",
   "metadata": {},
   "outputs": [],
   "source": [
    "# Sort people by age using a lambda function\n",
    "peo.sort(key=lambda p:p.age)"
   ]
  },
  {
   "cell_type": "code",
   "execution_count": 32,
   "id": "6c4fed29",
   "metadata": {},
   "outputs": [
    {
     "name": "stdout",
     "output_type": "stream",
     "text": [
      "saed 19\n",
      "Ali 22\n",
      "karam 24\n"
     ]
    }
   ],
   "source": [
    "# Print  sorted list\n",
    "for p in peo :\n",
    "    print(p.name ,p.age)"
   ]
  },
  {
   "cell_type": "code",
   "execution_count": null,
   "id": "c739a47a",
   "metadata": {},
   "outputs": [],
   "source": []
  }
 ],
 "metadata": {
  "kernelspec": {
   "display_name": "Python 3 (ipykernel)",
   "language": "python",
   "name": "python3"
  },
  "language_info": {
   "codemirror_mode": {
    "name": "ipython",
    "version": 3
   },
   "file_extension": ".py",
   "mimetype": "text/x-python",
   "name": "python",
   "nbconvert_exporter": "python",
   "pygments_lexer": "ipython3",
   "version": "3.9.13"
  }
 },
 "nbformat": 4,
 "nbformat_minor": 5
}
