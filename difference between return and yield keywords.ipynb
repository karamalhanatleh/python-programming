{
 "cells": [
  {
   "cell_type": "markdown",
   "id": "fd70d278",
   "metadata": {},
   "source": [
    "# difference between return and yield keywords"
   ]
  },
  {
   "cell_type": "code",
   "execution_count": null,
   "id": "39611b92",
   "metadata": {},
   "outputs": [],
   "source": []
  },
  {
   "cell_type": "markdown",
   "id": "224e8d94",
   "metadata": {},
   "source": [
    "### Return"
   ]
  },
  {
   "cell_type": "markdown",
   "id": "5cef623d",
   "metadata": {},
   "source": [
    "Return is used to exit a function and return a value to the caller. When a return statement is encountered, the function terminates immediately, and the value of the expression following the return statement is returned to the caller.\n",
    "\n"
   ]
  },
  {
   "cell_type": "code",
   "execution_count": 5,
   "id": "8ca900fe",
   "metadata": {},
   "outputs": [
    {
     "name": "stdout",
     "output_type": "stream",
     "text": [
      "This is a return value\n"
     ]
    }
   ],
   "source": [
    "#ex1\n",
    "def return_example():\n",
    "    return \"This is a return value\"\n",
    "    # After return, the function terminates, and nothing after this line will be executed.\n",
    "\n",
    "result = return_example()\n",
    "print(result) "
   ]
  },
  {
   "cell_type": "code",
   "execution_count": 6,
   "id": "fc7fb10d",
   "metadata": {},
   "outputs": [],
   "source": [
    "#ex2\n",
    "def ret_loop():\n",
    "    for i in range(5):\n",
    "        return i"
   ]
  },
  {
   "cell_type": "code",
   "execution_count": 7,
   "id": "c00b7ab7",
   "metadata": {},
   "outputs": [
    {
     "name": "stdout",
     "output_type": "stream",
     "text": [
      "0\n"
     ]
    }
   ],
   "source": [
    "result = ret_loop()\n",
    "print(result)  "
   ]
  },
  {
   "cell_type": "code",
   "execution_count": null,
   "id": "0d5d73a9",
   "metadata": {},
   "outputs": [],
   "source": []
  },
  {
   "cell_type": "markdown",
   "id": "5f98cbc4",
   "metadata": {},
   "source": [
    "### yield"
   ]
  },
  {
   "cell_type": "markdown",
   "id": "4d0d22f6",
   "metadata": {},
   "source": [
    "yield, is used to define a generator function. A generator function is a special kind of function that produces a sequence of values one at a time, instead of returning a single value. When a yield statement is encountered, the generator function produces a value and suspends its execution, saving its state for later\n",
    "\n"
   ]
  },
  {
   "cell_type": "code",
   "execution_count": 8,
   "id": "0704454b",
   "metadata": {},
   "outputs": [],
   "source": [
    "def yield_example():\n",
    "    yield \"First value\"\n",
    "    yield \"Second value\"\n",
    "    yield \"Third value\""
   ]
  },
  {
   "cell_type": "code",
   "execution_count": 9,
   "id": "61b81900",
   "metadata": {},
   "outputs": [],
   "source": [
    "generator = yield_example()\n"
   ]
  },
  {
   "cell_type": "code",
   "execution_count": 10,
   "id": "368c1278",
   "metadata": {
    "scrolled": true
   },
   "outputs": [
    {
     "name": "stdout",
     "output_type": "stream",
     "text": [
      "First value\n",
      "Second value\n",
      "Third value\n"
     ]
    }
   ],
   "source": [
    "for value in generator:\n",
    "    print(value)\n"
   ]
  },
  {
   "cell_type": "code",
   "execution_count": null,
   "id": "87ee9bd0",
   "metadata": {},
   "outputs": [],
   "source": []
  },
  {
   "cell_type": "code",
   "execution_count": 12,
   "id": "407bf0ab",
   "metadata": {},
   "outputs": [],
   "source": [
    "#ex2\n",
    "def yield_in_loop():\n",
    "    for i in range(5):\n",
    "        yield i \n"
   ]
  },
  {
   "cell_type": "code",
   "execution_count": 13,
   "id": "a4e0a8b7",
   "metadata": {},
   "outputs": [
    {
     "name": "stdout",
     "output_type": "stream",
     "text": [
      "0\n",
      "1\n",
      "2\n",
      "3\n",
      "4\n"
     ]
    }
   ],
   "source": [
    "generator = yield_in_loop()\n",
    "\n",
    "for value in generator:\n",
    "    print(value)\n"
   ]
  },
  {
   "cell_type": "code",
   "execution_count": null,
   "id": "210030e1",
   "metadata": {},
   "outputs": [],
   "source": []
  }
 ],
 "metadata": {
  "kernelspec": {
   "display_name": "Python 3 (ipykernel)",
   "language": "python",
   "name": "python3"
  },
  "language_info": {
   "codemirror_mode": {
    "name": "ipython",
    "version": 3
   },
   "file_extension": ".py",
   "mimetype": "text/x-python",
   "name": "python",
   "nbconvert_exporter": "python",
   "pygments_lexer": "ipython3",
   "version": "3.9.13"
  }
 },
 "nbformat": 4,
 "nbformat_minor": 5
}
