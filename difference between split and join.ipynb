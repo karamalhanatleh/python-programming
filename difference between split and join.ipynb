{
 "cells": [
  {
   "cell_type": "markdown",
   "id": "a9da4c10",
   "metadata": {},
   "source": [
    "# difference between split and join"
   ]
  },
  {
   "cell_type": "code",
   "execution_count": null,
   "id": "7fe90ffb",
   "metadata": {},
   "outputs": [],
   "source": []
  },
  {
   "cell_type": "markdown",
   "id": "c772dc0d",
   "metadata": {},
   "source": [
    "### split"
   ]
  },
  {
   "cell_type": "markdown",
   "id": "586b7fc9",
   "metadata": {},
   "source": [
    "The split function is used to create a list from strings based on some delimiter, for eg. space.\n",
    "\n"
   ]
  },
  {
   "cell_type": "code",
   "execution_count": 3,
   "id": "6fd3baad",
   "metadata": {},
   "outputs": [
    {
     "data": {
      "text/plain": [
       "['Hello', 'how', 'are', 'you?']"
      ]
     },
     "execution_count": 3,
     "metadata": {},
     "output_type": "execute_result"
    }
   ],
   "source": [
    "#ex1\n",
    "text = \"Hello how are you?\"\n",
    "words=text.split(\" \")\n",
    "words"
   ]
  },
  {
   "cell_type": "code",
   "execution_count": 4,
   "id": "03653bf4",
   "metadata": {},
   "outputs": [
    {
     "data": {
      "text/plain": [
       "['ali', 'omar', 'karam', 'khaled']"
      ]
     },
     "execution_count": 4,
     "metadata": {},
     "output_type": "execute_result"
    }
   ],
   "source": [
    "#x2\n",
    "names=\"ali,omar,karam,khaled\"\n",
    "names_s= names.split(\",\")\n",
    "names_s"
   ]
  },
  {
   "cell_type": "code",
   "execution_count": null,
   "id": "089e8b74",
   "metadata": {},
   "outputs": [],
   "source": []
  },
  {
   "cell_type": "markdown",
   "id": "20ae79bb",
   "metadata": {},
   "source": [
    "### join()\n"
   ]
  },
  {
   "cell_type": "markdown",
   "id": "66f29cb4",
   "metadata": {},
   "source": [
    "The join() method is a built-in function of Python’s str class that concatenates a list of strings into a single string. It is called on a delimiter string and invoked with a list of strings to be joined. The delimiter string is inserted between each string in the list when the strings are concatenated.\n",
    "\n"
   ]
  },
  {
   "cell_type": "code",
   "execution_count": 5,
   "id": "2d2c158c",
   "metadata": {},
   "outputs": [
    {
     "data": {
      "text/plain": [
       "'Hello how are you'"
      ]
     },
     "execution_count": 5,
     "metadata": {},
     "output_type": "execute_result"
    }
   ],
   "source": [
    "#ex1\n",
    "words = ['Hello', 'how', 'are', 'you']\n",
    "sentence= \" \".join(words)\n",
    "sentence"
   ]
  },
  {
   "cell_type": "code",
   "execution_count": 9,
   "id": "713102a6",
   "metadata": {},
   "outputs": [
    {
     "name": "stdout",
     "output_type": "stream",
     "text": [
      "hello mr karam\n",
      "please give me book\n",
      "This is a car\n"
     ]
    }
   ],
   "source": [
    "list_words=[['hello','mr','karam'],['please','give','me','book'],['This','is','a','car'] ]\n",
    "for i in list_words:\n",
    "    sen=\" \".join(i)\n",
    "    print(sen)"
   ]
  },
  {
   "cell_type": "code",
   "execution_count": null,
   "id": "0d363819",
   "metadata": {},
   "outputs": [],
   "source": []
  }
 ],
 "metadata": {
  "kernelspec": {
   "display_name": "Python 3 (ipykernel)",
   "language": "python",
   "name": "python3"
  },
  "language_info": {
   "codemirror_mode": {
    "name": "ipython",
    "version": 3
   },
   "file_extension": ".py",
   "mimetype": "text/x-python",
   "name": "python",
   "nbconvert_exporter": "python",
   "pygments_lexer": "ipython3",
   "version": "3.9.13"
  }
 },
 "nbformat": 4,
 "nbformat_minor": 5
}
