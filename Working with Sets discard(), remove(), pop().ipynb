{
 "cells": [
  {
   "cell_type": "markdown",
   "id": "a95db52f",
   "metadata": {},
   "source": [
    "# Set .discard(), .remove() & .pop()"
   ]
  },
  {
   "cell_type": "code",
   "execution_count": null,
   "id": "bb9ffdb4",
   "metadata": {},
   "outputs": [],
   "source": []
  },
  {
   "cell_type": "markdown",
   "id": "5758cc20",
   "metadata": {},
   "source": [
    "## 1. set.discard(element)\n"
   ]
  },
  {
   "cell_type": "markdown",
   "id": "145f536b",
   "metadata": {},
   "source": [
    "Removes the specified element from the set.<br>\n",
    "Does not raise an error if the element is not found in the set."
   ]
  },
  {
   "cell_type": "code",
   "execution_count": null,
   "id": "77c360eb",
   "metadata": {},
   "outputs": [],
   "source": [
    "Removes the specified element from the set.\n",
    "Does not raise an error if the element is not found in the set."
   ]
  },
  {
   "cell_type": "code",
   "execution_count": 7,
   "id": "1151c056",
   "metadata": {},
   "outputs": [],
   "source": [
    "s = {1, 2, 3,4,5}\n"
   ]
  },
  {
   "cell_type": "code",
   "execution_count": 8,
   "id": "03566868",
   "metadata": {},
   "outputs": [
    {
     "name": "stdout",
     "output_type": "stream",
     "text": [
      "{1, 3, 4, 5}\n"
     ]
    }
   ],
   "source": [
    "s.discard(2)\n",
    "print(s)"
   ]
  },
  {
   "cell_type": "code",
   "execution_count": 11,
   "id": "ab57bd37",
   "metadata": {},
   "outputs": [
    {
     "name": "stdout",
     "output_type": "stream",
     "text": [
      "{1, 3, 4}\n"
     ]
    }
   ],
   "source": [
    "s.discard(5)\n",
    "print(s)"
   ]
  },
  {
   "cell_type": "code",
   "execution_count": null,
   "id": "b2ce94bd",
   "metadata": {},
   "outputs": [],
   "source": []
  },
  {
   "cell_type": "markdown",
   "id": "3ea9fef4",
   "metadata": {},
   "source": [
    "## 2. set.remove(element)\n"
   ]
  },
  {
   "cell_type": "markdown",
   "id": "7f45cdac",
   "metadata": {},
   "source": [
    "Removes the specified element from the set.<br>\n",
    "Raises a KeyError if the element is not found in the set."
   ]
  },
  {
   "cell_type": "code",
   "execution_count": 14,
   "id": "41c29ecf",
   "metadata": {},
   "outputs": [],
   "source": [
    "s={1,2,3,4,5}"
   ]
  },
  {
   "cell_type": "code",
   "execution_count": 15,
   "id": "cb07d802",
   "metadata": {},
   "outputs": [
    {
     "name": "stdout",
     "output_type": "stream",
     "text": [
      "{1, 2, 4, 5}\n"
     ]
    }
   ],
   "source": [
    "s.remove(3)\n",
    "print(s)"
   ]
  },
  {
   "cell_type": "code",
   "execution_count": 17,
   "id": "758f3c2c",
   "metadata": {},
   "outputs": [
    {
     "ename": "KeyError",
     "evalue": "3",
     "output_type": "error",
     "traceback": [
      "\u001b[1;31m---------------------------------------------------------------------------\u001b[0m",
      "\u001b[1;31mKeyError\u001b[0m                                  Traceback (most recent call last)",
      "\u001b[1;32m~\\AppData\\Local\\Temp\\ipykernel_10112\\3978131384.py\u001b[0m in \u001b[0;36m<module>\u001b[1;34m\u001b[0m\n\u001b[0;32m      1\u001b[0m \u001b[1;31m#again remove 3 (is not exist) :>error occurs\u001b[0m\u001b[1;33m\u001b[0m\u001b[1;33m\u001b[0m\u001b[0m\n\u001b[1;32m----> 2\u001b[1;33m \u001b[0ms\u001b[0m\u001b[1;33m.\u001b[0m\u001b[0mremove\u001b[0m\u001b[1;33m(\u001b[0m\u001b[1;36m3\u001b[0m\u001b[1;33m)\u001b[0m\u001b[1;33m\u001b[0m\u001b[1;33m\u001b[0m\u001b[0m\n\u001b[0m",
      "\u001b[1;31mKeyError\u001b[0m: 3"
     ]
    }
   ],
   "source": [
    "#again remove 3 (is not exist) :>error occurs\n",
    "s.remove(3)"
   ]
  },
  {
   "cell_type": "code",
   "execution_count": null,
   "id": "6142fea9",
   "metadata": {},
   "outputs": [],
   "source": []
  },
  {
   "cell_type": "markdown",
   "id": "8f7e5f4c",
   "metadata": {},
   "source": [
    "## 3. set.pop()\n"
   ]
  },
  {
   "cell_type": "markdown",
   "id": "bbbdc0b2",
   "metadata": {},
   "source": [
    "Removes and returns an arbitrary element from the set.<br>\n",
    "Raises a KeyError if the set is empty.<br>\n",
    "Since sets are unordered, you don’t know which element will be removed."
   ]
  },
  {
   "cell_type": "code",
   "execution_count": 20,
   "id": "0c5ff897",
   "metadata": {},
   "outputs": [],
   "source": [
    "s={1,2,3,4,5}"
   ]
  },
  {
   "cell_type": "code",
   "execution_count": null,
   "id": "11c93d6f",
   "metadata": {},
   "outputs": [],
   "source": [
    "el"
   ]
  }
 ],
 "metadata": {
  "kernelspec": {
   "display_name": "Python 3 (ipykernel)",
   "language": "python",
   "name": "python3"
  },
  "language_info": {
   "codemirror_mode": {
    "name": "ipython",
    "version": 3
   },
   "file_extension": ".py",
   "mimetype": "text/x-python",
   "name": "python",
   "nbconvert_exporter": "python",
   "pygments_lexer": "ipython3",
   "version": "3.9.13"
  }
 },
 "nbformat": 4,
 "nbformat_minor": 5
}
