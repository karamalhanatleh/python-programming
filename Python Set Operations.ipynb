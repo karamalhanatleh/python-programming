{
 "cells": [
  {
   "cell_type": "markdown",
   "id": "db44f278",
   "metadata": {},
   "source": [
    "# Set Operations in Python: Update, Intersection, Difference, and Symmetric Difference"
   ]
  },
  {
   "cell_type": "markdown",
   "id": "7e441dfb",
   "metadata": {},
   "source": [
    "__________________________________________"
   ]
  },
  {
   "cell_type": "markdown",
   "id": "ea0b6aa0",
   "metadata": {},
   "source": [
    "### update()"
   ]
  },
  {
   "cell_type": "code",
   "execution_count": 1,
   "id": "a54d281a",
   "metadata": {},
   "outputs": [],
   "source": [
    "# Define two sets\n",
    "a = {1, 2, 3, 4, 5}\n",
    "b = {4, 5, 6, 7, 8}"
   ]
  },
  {
   "cell_type": "code",
   "execution_count": 2,
   "id": "e4a6846e",
   "metadata": {},
   "outputs": [],
   "source": [
    "# Update set 'a' with elements from set 'b'\n",
    "a.update(b)  "
   ]
  },
  {
   "cell_type": "code",
   "execution_count": 3,
   "id": "d7a47c65",
   "metadata": {},
   "outputs": [
    {
     "name": "stdout",
     "output_type": "stream",
     "text": [
      "{1, 2, 3, 4, 5, 6, 7, 8}\n"
     ]
    }
   ],
   "source": [
    "# After update, 'a' will contain all elements from both sets\n",
    "print(a)  # Output: {1, 2, 3, 4, 5, 6, 7, 8}\n"
   ]
  },
  {
   "cell_type": "code",
   "execution_count": null,
   "id": "66d21358",
   "metadata": {},
   "outputs": [],
   "source": []
  },
  {
   "cell_type": "markdown",
   "id": "49fa4873",
   "metadata": {},
   "source": [
    "__________________________________________"
   ]
  },
  {
   "cell_type": "markdown",
   "id": "705ffbe9",
   "metadata": {},
   "source": [
    "### intersection_update()"
   ]
  },
  {
   "cell_type": "code",
   "execution_count": 4,
   "id": "6bbdc7e7",
   "metadata": {},
   "outputs": [],
   "source": [
    "# Define two sets\n",
    "a = {1, 2, 3, 4, 5}\n",
    "b = {4, 5, 6, 7, 8}"
   ]
  },
  {
   "cell_type": "code",
   "execution_count": 5,
   "id": "d5e716b3",
   "metadata": {},
   "outputs": [],
   "source": [
    "# Perform intersection update on set 'a' with set 'b'\n",
    "a.intersection_update(b)"
   ]
  },
  {
   "cell_type": "code",
   "execution_count": 6,
   "id": "5c33d323",
   "metadata": {},
   "outputs": [
    {
     "name": "stdout",
     "output_type": "stream",
     "text": [
      "{4, 5}\n"
     ]
    }
   ],
   "source": [
    "print(a)  # Output: {4, 5}\n"
   ]
  },
  {
   "cell_type": "markdown",
   "id": "2f24ed9c",
   "metadata": {},
   "source": [
    "__________________________________________"
   ]
  },
  {
   "cell_type": "markdown",
   "id": "8edb446f",
   "metadata": {},
   "source": [
    "### difference_update()"
   ]
  },
  {
   "cell_type": "code",
   "execution_count": 8,
   "id": "0ff36e9a",
   "metadata": {},
   "outputs": [],
   "source": [
    "# Define two sets\n",
    "a = {1, 2, 3, 4, 5}\n",
    "b = {4, 5, 6, 7, 8}"
   ]
  },
  {
   "cell_type": "code",
   "execution_count": 9,
   "id": "79e89d47",
   "metadata": {},
   "outputs": [],
   "source": [
    "# Perform difference update on set 'a' with set 'b'\n",
    "a.difference_update(b)"
   ]
  },
  {
   "cell_type": "code",
   "execution_count": 10,
   "id": "4fd8e782",
   "metadata": {},
   "outputs": [
    {
     "name": "stdout",
     "output_type": "stream",
     "text": [
      "{1, 2, 3}\n"
     ]
    }
   ],
   "source": [
    "print(a)  # Output: {1, 2, 3}\n"
   ]
  },
  {
   "cell_type": "markdown",
   "id": "ab6813f6",
   "metadata": {},
   "source": [
    "__________________________________________"
   ]
  },
  {
   "cell_type": "markdown",
   "id": "687d46de",
   "metadata": {},
   "source": [
    "### symmetric_difference_update()"
   ]
  },
  {
   "cell_type": "code",
   "execution_count": 11,
   "id": "5bda1126",
   "metadata": {},
   "outputs": [],
   "source": [
    "# Define two sets\n",
    "a = {1, 2, 3, 4, 5}\n",
    "b = {4, 5, 6, 7, 8}"
   ]
  },
  {
   "cell_type": "code",
   "execution_count": 12,
   "id": "47d8a7ac",
   "metadata": {},
   "outputs": [],
   "source": [
    "a.symmetric_difference_update(b)\n"
   ]
  },
  {
   "cell_type": "code",
   "execution_count": 13,
   "id": "d0b7e904",
   "metadata": {},
   "outputs": [
    {
     "name": "stdout",
     "output_type": "stream",
     "text": [
      "{1, 2, 3, 6, 7, 8}\n"
     ]
    }
   ],
   "source": [
    "print(a)"
   ]
  },
  {
   "cell_type": "code",
   "execution_count": null,
   "id": "dd048e44",
   "metadata": {},
   "outputs": [],
   "source": []
  }
 ],
 "metadata": {
  "kernelspec": {
   "display_name": "Python 3 (ipykernel)",
   "language": "python",
   "name": "python3"
  },
  "language_info": {
   "codemirror_mode": {
    "name": "ipython",
    "version": 3
   },
   "file_extension": ".py",
   "mimetype": "text/x-python",
   "name": "python",
   "nbconvert_exporter": "python",
   "pygments_lexer": "ipython3",
   "version": "3.9.13"
  }
 },
 "nbformat": 4,
 "nbformat_minor": 5
}
