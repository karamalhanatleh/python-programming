{
 "cells": [
  {
   "cell_type": "markdown",
   "id": "2c9fac01",
   "metadata": {},
   "source": [
    "# Methods to Reverse a String# Reverse a String"
   ]
  },
  {
   "cell_type": "code",
   "execution_count": null,
   "id": "146660a1",
   "metadata": {},
   "outputs": [],
   "source": []
  },
  {
   "cell_type": "markdown",
   "id": "5075674f",
   "metadata": {},
   "source": [
    "### Method 1: Using Slicing\n"
   ]
  },
  {
   "cell_type": "code",
   "execution_count": 2,
   "id": "5629b7ac",
   "metadata": {},
   "outputs": [],
   "source": [
    "def reverse_str(s):\n",
    "    return s[::-1]"
   ]
  },
  {
   "cell_type": "code",
   "execution_count": 7,
   "id": "07a94380",
   "metadata": {},
   "outputs": [
    {
     "name": "stdout",
     "output_type": "stream",
     "text": [
      "EDCBA\n"
     ]
    }
   ],
   "source": [
    "#ex\n",
    "word=\"ABCDE\"\n",
    "print(reverse_str(word))"
   ]
  },
  {
   "cell_type": "code",
   "execution_count": 8,
   "id": "1087c69c",
   "metadata": {},
   "outputs": [
    {
     "name": "stdout",
     "output_type": "stream",
     "text": [
      "987654321\n"
     ]
    }
   ],
   "source": [
    "#ex2\n",
    "word=\"123456789\"\n",
    "print(reverse_str(word))"
   ]
  },
  {
   "cell_type": "code",
   "execution_count": null,
   "id": "385e9a8a",
   "metadata": {},
   "outputs": [],
   "source": []
  },
  {
   "cell_type": "markdown",
   "id": "23a2ff18",
   "metadata": {},
   "source": [
    "### Method 2: Using a Loop\n"
   ]
  },
  {
   "cell_type": "markdown",
   "id": "51e0c256",
   "metadata": {},
   "source": [
    "You can reverse a string using a loop by constructing the reversed string manually.\n",
    "\n"
   ]
  },
  {
   "cell_type": "code",
   "execution_count": 13,
   "id": "e8e396fc",
   "metadata": {},
   "outputs": [],
   "source": [
    "def reverse_string(s):\n",
    "    rev_str=\"\"\n",
    "    for c in s:\n",
    "        rev_str=c+rev_str\n",
    "    return rev_str"
   ]
  },
  {
   "cell_type": "code",
   "execution_count": 17,
   "id": "d880288b",
   "metadata": {},
   "outputs": [
    {
     "name": "stdout",
     "output_type": "stream",
     "text": [
      "dlrow olleH\n"
     ]
    }
   ],
   "source": [
    "string = \"Hello world\"\n",
    "print(reverse_string(string))  "
   ]
  },
  {
   "cell_type": "code",
   "execution_count": null,
   "id": "817a934c",
   "metadata": {},
   "outputs": [],
   "source": []
  },
  {
   "cell_type": "markdown",
   "id": "fd1aa92a",
   "metadata": {},
   "source": [
    "### Method 3: Using the reversed() Function\n"
   ]
  },
  {
   "cell_type": "markdown",
   "id": "0354c2d6",
   "metadata": {},
   "source": [
    "reversed() function returns an iterator that you can convert to a string."
   ]
  },
  {
   "cell_type": "code",
   "execution_count": 18,
   "id": "48c3dea5",
   "metadata": {},
   "outputs": [],
   "source": [
    "def reverse_string(s):\n",
    "    return ''.join(reversed(s))"
   ]
  },
  {
   "cell_type": "code",
   "execution_count": 19,
   "id": "a705e73e",
   "metadata": {},
   "outputs": [
    {
     "name": "stdout",
     "output_type": "stream",
     "text": [
      "nohtyp\n"
     ]
    }
   ],
   "source": [
    "print(reverse_string('python'))"
   ]
  },
  {
   "cell_type": "code",
   "execution_count": null,
   "id": "dd848980",
   "metadata": {},
   "outputs": [],
   "source": []
  }
 ],
 "metadata": {
  "kernelspec": {
   "display_name": "Python 3 (ipykernel)",
   "language": "python",
   "name": "python3"
  },
  "language_info": {
   "codemirror_mode": {
    "name": "ipython",
    "version": 3
   },
   "file_extension": ".py",
   "mimetype": "text/x-python",
   "name": "python",
   "nbconvert_exporter": "python",
   "pygments_lexer": "ipython3",
   "version": "3.9.13"
  }
 },
 "nbformat": 4,
 "nbformat_minor": 5
}
