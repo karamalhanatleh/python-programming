{
 "cells": [
  {
   "cell_type": "markdown",
   "id": "6ae9d132",
   "metadata": {},
   "source": [
    "# Methods to Reverse a String# Reverse a String"
   ]
  },
  {
   "cell_type": "code",
   "execution_count": null,
   "id": "06a37849",
   "metadata": {},
   "outputs": [],
   "source": []
  },
  {
   "cell_type": "markdown",
   "id": "a89a9317",
   "metadata": {},
   "source": [
    "### Method 1: Using Slicing\n"
   ]
  },
  {
   "cell_type": "code",
   "execution_count": 2,
   "id": "75a4f3d5",
   "metadata": {},
   "outputs": [],
   "source": [
    "def reverse_str(s):\n",
    "    return s[::-1]"
   ]
  },
  {
   "cell_type": "code",
   "execution_count": 7,
   "id": "35043d31",
   "metadata": {},
   "outputs": [
    {
     "name": "stdout",
     "output_type": "stream",
     "text": [
      "EDCBA\n"
     ]
    }
   ],
   "source": [
    "#ex\n",
    "word=\"ABCDE\"\n",
    "print(reverse_str(word))"
   ]
  },
  {
   "cell_type": "code",
   "execution_count": 8,
   "id": "b3483424",
   "metadata": {},
   "outputs": [
    {
     "name": "stdout",
     "output_type": "stream",
     "text": [
      "987654321\n"
     ]
    }
   ],
   "source": [
    "#ex2\n",
    "word=\"123456789\"\n",
    "print(reverse_str(word))"
   ]
  },
  {
   "cell_type": "code",
   "execution_count": null,
   "id": "e7e03e06",
   "metadata": {},
   "outputs": [],
   "source": []
  },
  {
   "cell_type": "markdown",
   "id": "0c803f86",
   "metadata": {},
   "source": [
    "### Method 2: Using a Loop\n"
   ]
  },
  {
   "cell_type": "markdown",
   "id": "bd855eb3",
   "metadata": {},
   "source": [
    "You can reverse a string using a loop by constructing the reversed string manually.\n",
    "\n"
   ]
  },
  {
   "cell_type": "code",
   "execution_count": 13,
   "id": "904223fe",
   "metadata": {},
   "outputs": [],
   "source": [
    "def reverse_string(s):\n",
    "    rev_str=\"\"\n",
    "    for c in s:\n",
    "        rev_str=c+rev_str\n",
    "    return rev_str"
   ]
  },
  {
   "cell_type": "code",
   "execution_count": 17,
   "id": "00ecd753",
   "metadata": {},
   "outputs": [
    {
     "name": "stdout",
     "output_type": "stream",
     "text": [
      "dlrow olleH\n"
     ]
    }
   ],
   "source": [
    "string = \"Hello world\"\n",
    "print(reverse_string(string))  "
   ]
  },
  {
   "cell_type": "code",
   "execution_count": null,
   "id": "b8b897e7",
   "metadata": {},
   "outputs": [],
   "source": []
  },
  {
   "cell_type": "markdown",
   "id": "a6f71459",
   "metadata": {},
   "source": [
    "### Method 3: Using the reversed() Function\n"
   ]
  },
  {
   "cell_type": "markdown",
   "id": "02c22846",
   "metadata": {},
   "source": [
    "reversed() function returns an iterator that you can convert to a string."
   ]
  },
  {
   "cell_type": "code",
   "execution_count": 18,
   "id": "1c6ef947",
   "metadata": {},
   "outputs": [],
   "source": [
    "def reverse_string(s):\n",
    "    return ''.join(reversed(s))"
   ]
  },
  {
   "cell_type": "code",
   "execution_count": 19,
   "id": "acfa5404",
   "metadata": {},
   "outputs": [
    {
     "name": "stdout",
     "output_type": "stream",
     "text": [
      "nohtyp\n"
     ]
    }
   ],
   "source": [
    "print(reverse_string('python'))"
   ]
  },
  {
   "cell_type": "code",
   "execution_count": null,
   "id": "a69f4ba7",
   "metadata": {},
   "outputs": [],
   "source": []
  }
 ],
 "metadata": {
  "kernelspec": {
   "display_name": "Python 3 (ipykernel)",
   "language": "python",
   "name": "python3"
  },
  "language_info": {
   "codemirror_mode": {
    "name": "ipython",
    "version": 3
   },
   "file_extension": ".py",
   "mimetype": "text/x-python",
   "name": "python",
   "nbconvert_exporter": "python",
   "pygments_lexer": "ipython3",
   "version": "3.9.13"
  }
 },
 "nbformat": 4,
 "nbformat_minor": 5
}
