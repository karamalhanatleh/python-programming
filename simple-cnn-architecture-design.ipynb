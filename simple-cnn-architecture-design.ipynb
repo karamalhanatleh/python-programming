{
 "cells": [
  {
   "cell_type": "markdown",
   "metadata": {},
   "source": [
    "# Simple Cnn architecture design"
   ]
  },
  {
   "cell_type": "code",
   "execution_count": 2,
   "metadata": {
    "_cell_guid": "b1076dfc-b9ad-4769-8c92-a6c4dae69d19",
    "_uuid": "8f2839f25d086af736a60e9eeb907d3b93b6e0e5",
    "execution": {
     "iopub.execute_input": "2024-03-27T09:27:07.444944Z",
     "iopub.status.busy": "2024-03-27T09:27:07.444520Z",
     "iopub.status.idle": "2024-03-27T09:27:08.671416Z",
     "shell.execute_reply": "2024-03-27T09:27:08.670244Z",
     "shell.execute_reply.started": "2024-03-27T09:27:07.444910Z"
    }
   },
   "outputs": [],
   "source": [
    "# This Python 3 environment comes with many helpful analytics libraries installed\n",
    "# It is defined by the kaggle/python Docker image: https://github.com/kaggle/docker-python\n",
    "# For example, here's several helpful packages to load\n",
    "\n",
    "import numpy as np # linear algebra\n",
    "import pandas as pd # data processing, CSV file I/O (e.g. pd.read_csv)\n",
    "\n",
    "# Input data files are available in the read-only \"../input/\" directory\n",
    "# For example, running this (by clicking run or pressing Shift+Enter) will list all files under the input directory\n",
    "\n",
    "import os\n",
    "for dirname, _, filenames in os.walk('/kaggle/input'):\n",
    "    for filename in filenames:\n",
    "        print(os.path.join(dirname, filename))\n",
    "\n",
    "# You can write up to 20GB to the current directory (/kaggle/working/) that gets preserved as output when you create a version using \"Save & Run All\" \n",
    "# You can also write temporary files to /kaggle/temp/, but they won't be saved outside of the current session"
   ]
  },
  {
   "cell_type": "code",
   "execution_count": 1,
   "metadata": {
    "execution": {
     "iopub.execute_input": "2024-03-27T09:27:08.674511Z",
     "iopub.status.busy": "2024-03-27T09:27:08.673544Z",
     "iopub.status.idle": "2024-03-27T09:27:23.548223Z",
     "shell.execute_reply": "2024-03-27T09:27:23.547034Z",
     "shell.execute_reply.started": "2024-03-27T09:27:08.674477Z"
    }
   },
   "outputs": [
    {
     "name": "stdout",
     "output_type": "stream",
     "text": [
      "WARNING:tensorflow:From C:\\Users\\DELL\\anaconda3\\lib\\site-packages\\keras\\src\\losses.py:2976: The name tf.losses.sparse_softmax_cross_entropy is deprecated. Please use tf.compat.v1.losses.sparse_softmax_cross_entropy instead.\n",
      "\n"
     ]
    }
   ],
   "source": [
    "#import paskages\n",
    "import tensorflow as tf\n",
    "from tensorflow.keras import layers, models\n",
    "from tensorflow.keras.datasets import fashion_mnist\n",
    "import matplotlib.pyplot as plt\n"
   ]
  },
  {
   "cell_type": "code",
   "execution_count": 2,
   "metadata": {
    "execution": {
     "iopub.execute_input": "2024-03-27T09:27:23.550829Z",
     "iopub.status.busy": "2024-03-27T09:27:23.550225Z",
     "iopub.status.idle": "2024-03-27T09:27:26.154392Z",
     "shell.execute_reply": "2024-03-27T09:27:26.153329Z",
     "shell.execute_reply.started": "2024-03-27T09:27:23.550800Z"
    }
   },
   "outputs": [
    {
     "name": "stdout",
     "output_type": "stream",
     "text": [
      "Downloading data from https://storage.googleapis.com/tensorflow/tf-keras-datasets/train-labels-idx1-ubyte.gz\n",
      "29515/29515 [==============================] - 0s 3us/step\n",
      "Downloading data from https://storage.googleapis.com/tensorflow/tf-keras-datasets/train-images-idx3-ubyte.gz\n",
      "26421880/26421880 [==============================] - 12s 0us/step\n",
      "Downloading data from https://storage.googleapis.com/tensorflow/tf-keras-datasets/t10k-labels-idx1-ubyte.gz\n",
      "5148/5148 [==============================] - 0s 0s/step\n",
      "Downloading data from https://storage.googleapis.com/tensorflow/tf-keras-datasets/t10k-images-idx3-ubyte.gz\n",
      "4422102/4422102 [==============================] - 2s 0us/step\n"
     ]
    }
   ],
   "source": [
    "# Load dataset\n",
    "(train_images, train_labels), (test_images, test_labels) = fashion_mnist.load_data()\n"
   ]
  },
  {
   "cell_type": "code",
   "execution_count": 3,
   "metadata": {
    "execution": {
     "iopub.execute_input": "2024-03-27T09:27:26.156306Z",
     "iopub.status.busy": "2024-03-27T09:27:26.155943Z",
     "iopub.status.idle": "2024-03-27T09:27:26.360849Z",
     "shell.execute_reply": "2024-03-27T09:27:26.359713Z",
     "shell.execute_reply.started": "2024-03-27T09:27:26.156277Z"
    }
   },
   "outputs": [],
   "source": [
    "#preprocessing on data\n",
    "train_images, test_images = train_images / 255.0, test_images / 255.0\n",
    "train_images = train_images.reshape((train_images.shape[0], 28, 28, 1))\n",
    "test_images = test_images.reshape((test_images.shape[0], 28, 28, 1))\n"
   ]
  },
  {
   "cell_type": "code",
   "execution_count": 4,
   "metadata": {},
   "outputs": [],
   "source": [
    "\n",
    "# Split training data into training and validation sets\n",
    "val_split = 0.1\n",
    "val_samples = int(train_images.shape[0] * val_split)\n",
    "\n",
    "val_images = train_images[:val_samples]\n",
    "val_labels = train_labels[:val_samples]\n",
    "\n",
    "train_images = train_images[val_samples:]\n",
    "train_labels = train_labels[val_samples:]"
   ]
  },
  {
   "cell_type": "code",
   "execution_count": null,
   "metadata": {
    "execution": {
     "iopub.execute_input": "2024-03-27T09:27:26.363637Z",
     "iopub.status.busy": "2024-03-27T09:27:26.363290Z",
     "iopub.status.idle": "2024-03-27T09:27:26.370935Z",
     "shell.execute_reply": "2024-03-27T09:27:26.369645Z",
     "shell.execute_reply.started": "2024-03-27T09:27:26.363608Z"
    }
   },
   "outputs": [],
   "source": [
    "# Define a function to plot training history and evaluate the model\n",
    "\n",
    "def plot_and_evaluate(model , history  , test_data , test_data)"
   ]
  },
  {
   "cell_type": "markdown",
   "metadata": {},
   "source": [
    "Will start modeling "
   ]
  },
  {
   "cell_type": "code",
   "execution_count": 7,
   "metadata": {
    "execution": {
     "iopub.execute_input": "2024-03-27T09:27:26.372848Z",
     "iopub.status.busy": "2024-03-27T09:27:26.372463Z",
     "iopub.status.idle": "2024-03-27T09:27:26.480567Z",
     "shell.execute_reply": "2024-03-27T09:27:26.479155Z",
     "shell.execute_reply.started": "2024-03-27T09:27:26.372806Z"
    }
   },
   "outputs": [
    {
     "name": "stderr",
     "output_type": "stream",
     "text": [
      "/opt/conda/lib/python3.10/site-packages/keras/src/layers/convolutional/base_conv.py:99: UserWarning: Do not pass an `input_shape`/`input_dim` argument to a layer. When using Sequential models, prefer using an `Input(shape)` object as the first layer in the model instead.\n",
      "  super().__init__(\n"
     ]
    }
   ],
   "source": [
    "model= models.Sequential([\n",
    "# First convolutional layer with 32 filters, each of size (3,3), using ReLU activation function\n",
    "# Input shape is (28, 28, 1) for grayscale images\n",
    "layers.Conv2D(32, (3, 3), activation='relu', input_shape=(28, 28, 1)),\n",
    "\n",
    "# Max pooling layer with pool size (2, 2)\n",
    "layers.MaxPooling2D((2, 2)),\n",
    "\n",
    "# Second convolutional layer with 64 filters, each of size (3,3), using ReLU activation function\n",
    "layers.Conv2D(64, (3, 3), activation='relu'),\n",
    "\n",
    "# Max pooling layer with pool size (2, 2)\n",
    "layers.MaxPooling2D((2, 2)),\n",
    "\n",
    "# Flattening layer to convert 2D feature maps into a 1D vector\n",
    "layers.Flatten(),\n",
    "\n",
    "# Dense (fully connected) layer with 64 neurons and ReLU activation function\n",
    "layers.Dense(64, activation='relu'),\n",
    "\n",
    "# Output layer with 10 neurons (for 10 classes) and softmax activation function for multi-class classification\n",
    "layers.Dense(10, activation='softmax')\n",
    "])"
   ]
  },
  {
   "cell_type": "code",
   "execution_count": 8,
   "metadata": {
    "execution": {
     "iopub.execute_input": "2024-03-27T09:27:26.482748Z",
     "iopub.status.busy": "2024-03-27T09:27:26.482407Z",
     "iopub.status.idle": "2024-03-27T09:27:26.497149Z",
     "shell.execute_reply": "2024-03-27T09:27:26.495967Z",
     "shell.execute_reply.started": "2024-03-27T09:27:26.482718Z"
    }
   },
   "outputs": [],
   "source": [
    "#compile model\n",
    "model.compile(optimizer='adam' , loss='sparse_categorical_crossentropy',metrics=['accuracy'])"
   ]
  },
  {
   "cell_type": "code",
   "execution_count": null,
   "metadata": {
    "execution": {
     "iopub.execute_input": "2024-03-27T09:27:26.498770Z",
     "iopub.status.busy": "2024-03-27T09:27:26.498430Z"
    }
   },
   "outputs": [
    {
     "name": "stdout",
     "output_type": "stream",
     "text": [
      "Epoch 1/10\n",
      "\u001b[1m938/938\u001b[0m \u001b[32m━━━━━━━━━━━━━━━━━━━━\u001b[0m\u001b[37m\u001b[0m \u001b[1m29s\u001b[0m 29ms/step - accuracy: 0.7477 - loss: 0.7331 - val_accuracy: 0.8623 - val_loss: 0.3714\n",
      "Epoch 2/10\n",
      "\u001b[1m938/938\u001b[0m \u001b[32m━━━━━━━━━━━━━━━━━━━━\u001b[0m\u001b[37m\u001b[0m \u001b[1m26s\u001b[0m 28ms/step - accuracy: 0.8735 - loss: 0.3485 - val_accuracy: 0.8844 - val_loss: 0.3225\n",
      "Epoch 3/10\n",
      "\u001b[1m938/938\u001b[0m \u001b[32m━━━━━━━━━━━━━━━━━━━━\u001b[0m\u001b[37m\u001b[0m \u001b[1m41s\u001b[0m 28ms/step - accuracy: 0.8935 - loss: 0.2926 - val_accuracy: 0.8804 - val_loss: 0.3210\n",
      "Epoch 4/10\n",
      "\u001b[1m938/938\u001b[0m \u001b[32m━━━━━━━━━━━━━━━━━━━━\u001b[0m\u001b[37m\u001b[0m \u001b[1m26s\u001b[0m 28ms/step - accuracy: 0.9047 - loss: 0.2644 - val_accuracy: 0.9003 - val_loss: 0.2788\n",
      "Epoch 5/10\n",
      "\u001b[1m217/938\u001b[0m \u001b[32m━━━━\u001b[0m\u001b[37m━━━━━━━━━━━━━━━━\u001b[0m \u001b[1m19s\u001b[0m 26ms/step - accuracy: 0.9138 - loss: 0.2381"
     ]
    }
   ],
   "source": [
    "# Train the model\n",
    "simple_history = model.fit(train_images, train_labels, epochs=10, batch_size=64, validation_data=(test_images, test_labels))\n"
   ]
  },
  {
   "cell_type": "code",
   "execution_count": null,
   "metadata": {},
   "outputs": [],
   "source": [
    "# Evaluate the model on test data\n",
    "test_loss, test_acc = model.evaluate(test_images, test_labels)\n",
    "print(f'Test accuracy (Simple CNN): {test_acc}')"
   ]
  },
  {
   "cell_type": "code",
   "execution_count": null,
   "metadata": {},
   "outputs": [],
   "source": [
    "plot_history(simple_history, 'Simple CNN Evaluation')"
   ]
  },
  {
   "cell_type": "code",
   "execution_count": null,
   "metadata": {},
   "outputs": [],
   "source": []
  },
  {
   "cell_type": "markdown",
   "metadata": {},
   "source": [
    "# Define an enhanced CNN architecture with additional convolutional blocks\n"
   ]
  },
  {
   "cell_type": "code",
   "execution_count": null,
   "metadata": {},
   "outputs": [],
   "source": [
    "model = models.Sequential([\n",
    "        # First convolutional block\n",
    "        layers.Conv2D(32, (3, 3), activation='relu', input_shape=(28, 28, 1)),\n",
    "        layers.MaxPooling2D((2, 2)),\n",
    "    \n",
    "        # Second convolutional block\n",
    "        layers.Conv2D(64, (3, 3), activation='relu'),\n",
    "        layers.MaxPooling2D((2, 2)),\n",
    "    \n",
    "        # Third convolutional block\n",
    "        layers.Conv2D(128, (3, 3), activation='relu'),\n",
    "        layers.MaxPooling2D((2, 2)),\n",
    "    \n",
    "        # Flatten the output for dense layers\n",
    "        layers.Flatten(),\n",
    "    \n",
    "        # Dense layers for classification\n",
    "        layers.Dense(128, activation='relu'),\n",
    "        layers.Dense(10, activation='softmax')\n",
    "    ])"
   ]
  },
  {
   "cell_type": "code",
   "execution_count": null,
   "metadata": {},
   "outputs": [],
   "source": []
  },
  {
   "cell_type": "markdown",
   "metadata": {},
   "source": [
    "# # # # # not complete"
   ]
  },
  {
   "cell_type": "markdown",
   "metadata": {},
   "source": [
    "# # # # # not complete"
   ]
  }
 ],
 "metadata": {
  "kaggle": {
   "accelerator": "none",
   "dataSources": [],
   "dockerImageVersionId": 30673,
   "isGpuEnabled": false,
   "isInternetEnabled": true,
   "language": "python",
   "sourceType": "notebook"
  },
  "kernelspec": {
   "display_name": "Python 3 (ipykernel)",
   "language": "python",
   "name": "python3"
  },
  "language_info": {
   "codemirror_mode": {
    "name": "ipython",
    "version": 3
   },
   "file_extension": ".py",
   "mimetype": "text/x-python",
   "name": "python",
   "nbconvert_exporter": "python",
   "pygments_lexer": "ipython3",
   "version": "3.9.13"
  }
 },
 "nbformat": 4,
 "nbformat_minor": 4
}
